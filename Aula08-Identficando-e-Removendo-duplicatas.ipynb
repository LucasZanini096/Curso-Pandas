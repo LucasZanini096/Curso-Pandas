{
 "cells": [
  {
   "cell_type": "markdown",
   "id": "73daf293",
   "metadata": {},
   "source": [
    "# AULA 08 : IDENTIFICANDO E REMOVENDO DUPLICATAS "
   ]
  },
  {
   "cell_type": "code",
   "execution_count": 3,
   "id": "c339db51",
   "metadata": {},
   "outputs": [],
   "source": [
    "import pandas as pd\n",
    "import numpy as np"
   ]
  },
  {
   "cell_type": "code",
   "execution_count": 4,
   "id": "cbdd9937",
   "metadata": {},
   "outputs": [],
   "source": [
    "baseVendas_DF = pd.read_excel(\"Base_Vendas.xlsx\")"
   ]
  },
  {
   "cell_type": "code",
   "execution_count": null,
   "id": "df87139b",
   "metadata": {},
   "outputs": [],
   "source": [
    "#Método nunique -> retorna um resumo dos itens, \n",
    "#conta quantos valores únicos possui um DataFrame"
   ]
  },
  {
   "cell_type": "code",
   "execution_count": 5,
   "id": "9fce816e",
   "metadata": {},
   "outputs": [
    {
     "name": "stdout",
     "output_type": "stream",
     "text": [
      "Vendedor        6\n",
      "Total Vendas    9\n",
      "dtype: int64\n"
     ]
    }
   ],
   "source": [
    "resumoValoresUnicos = baseVendas_DF.nunique() #Resumo valores únicos\n",
    "print(resumoValoresUnicos)"
   ]
  },
  {
   "cell_type": "code",
   "execution_count": 9,
   "id": "de59afc2",
   "metadata": {},
   "outputs": [
    {
     "name": "stdout",
     "output_type": "stream",
     "text": [
      "0    False\n",
      "1    False\n",
      "2    False\n",
      "3    False\n",
      "4     True\n",
      "5    False\n",
      "6    False\n",
      "7     True\n",
      "8     True\n",
      "dtype: bool\n"
     ]
    }
   ],
   "source": [
    "\n",
    "#Método duplicated \n",
    "\n",
    "#subset = Considere apenas determinadas colunas para identificar duplicatas, por padrão, use todas as colunas.\n",
    "#keep = Controla como considerar o valor da duplicidade \n",
    "#Determina quais duplicatas (se houver) marcar.\n",
    "#firt: Marca as duplicatas como Verdadeiro, exceto pela primeira ocorrência.\n",
    "#last: Marca as duplicatas como Verdadeiro, exceto pela última ocorrência.\n",
    "#false: Marca todas as duplicatas como Verdadeiro.\n",
    "confereDuplicidades = baseVendas_DF.duplicated(subset=\"Vendedor\", keep=\"first\")\n",
    "print(confereDuplicidades)"
   ]
  },
  {
   "cell_type": "code",
   "execution_count": 10,
   "id": "6b607cb9",
   "metadata": {},
   "outputs": [
    {
     "data": {
      "text/html": [
       "<div>\n",
       "<style scoped>\n",
       "    .dataframe tbody tr th:only-of-type {\n",
       "        vertical-align: middle;\n",
       "    }\n",
       "\n",
       "    .dataframe tbody tr th {\n",
       "        vertical-align: top;\n",
       "    }\n",
       "\n",
       "    .dataframe thead th {\n",
       "        text-align: right;\n",
       "    }\n",
       "</style>\n",
       "<table border=\"1\" class=\"dataframe\">\n",
       "  <thead>\n",
       "    <tr style=\"text-align: right;\">\n",
       "      <th></th>\n",
       "      <th>Vendedor</th>\n",
       "      <th>Total Vendas</th>\n",
       "      <th>Confere Duplicidade</th>\n",
       "    </tr>\n",
       "  </thead>\n",
       "  <tbody>\n",
       "    <tr>\n",
       "      <th>0</th>\n",
       "      <td>Amanda Martins</td>\n",
       "      <td>1485.60</td>\n",
       "      <td>False</td>\n",
       "    </tr>\n",
       "    <tr>\n",
       "      <th>1</th>\n",
       "      <td>Angela Maria</td>\n",
       "      <td>359.96</td>\n",
       "      <td>False</td>\n",
       "    </tr>\n",
       "    <tr>\n",
       "      <th>2</th>\n",
       "      <td>Carlos Moreira</td>\n",
       "      <td>489.93</td>\n",
       "      <td>False</td>\n",
       "    </tr>\n",
       "    <tr>\n",
       "      <th>3</th>\n",
       "      <td>Gabriel Cardoso</td>\n",
       "      <td>448.28</td>\n",
       "      <td>False</td>\n",
       "    </tr>\n",
       "    <tr>\n",
       "      <th>4</th>\n",
       "      <td>Gabriel Cardoso</td>\n",
       "      <td>1344.84</td>\n",
       "      <td>True</td>\n",
       "    </tr>\n",
       "    <tr>\n",
       "      <th>5</th>\n",
       "      <td>Leonardo Almeida</td>\n",
       "      <td>719.92</td>\n",
       "      <td>False</td>\n",
       "    </tr>\n",
       "    <tr>\n",
       "      <th>6</th>\n",
       "      <td>Nicolas Pereira</td>\n",
       "      <td>306.80</td>\n",
       "      <td>False</td>\n",
       "    </tr>\n",
       "    <tr>\n",
       "      <th>7</th>\n",
       "      <td>Nicolas Pereira</td>\n",
       "      <td>1048.68</td>\n",
       "      <td>True</td>\n",
       "    </tr>\n",
       "    <tr>\n",
       "      <th>8</th>\n",
       "      <td>Nicolas Pereira</td>\n",
       "      <td>573.30</td>\n",
       "      <td>True</td>\n",
       "    </tr>\n",
       "  </tbody>\n",
       "</table>\n",
       "</div>"
      ],
      "text/plain": [
       "           Vendedor  Total Vendas  Confere Duplicidade\n",
       "0    Amanda Martins       1485.60                False\n",
       "1      Angela Maria        359.96                False\n",
       "2    Carlos Moreira        489.93                False\n",
       "3   Gabriel Cardoso        448.28                False\n",
       "4   Gabriel Cardoso       1344.84                 True\n",
       "5  Leonardo Almeida        719.92                False\n",
       "6   Nicolas Pereira        306.80                False\n",
       "7   Nicolas Pereira       1048.68                 True\n",
       "8   Nicolas Pereira        573.30                 True"
      ]
     },
     "metadata": {},
     "output_type": "display_data"
    }
   ],
   "source": [
    "baseVendas_DF['Confere Duplicidade'] = baseVendas_DF.duplicated(subset=\"Vendedor\", keep=\"first\")\n",
    "display(baseVendas_DF)"
   ]
  },
  {
   "cell_type": "code",
   "execution_count": 13,
   "id": "43bc827e",
   "metadata": {},
   "outputs": [
    {
     "data": {
      "text/html": [
       "<div>\n",
       "<style scoped>\n",
       "    .dataframe tbody tr th:only-of-type {\n",
       "        vertical-align: middle;\n",
       "    }\n",
       "\n",
       "    .dataframe tbody tr th {\n",
       "        vertical-align: top;\n",
       "    }\n",
       "\n",
       "    .dataframe thead th {\n",
       "        text-align: right;\n",
       "    }\n",
       "</style>\n",
       "<table border=\"1\" class=\"dataframe\">\n",
       "  <thead>\n",
       "    <tr style=\"text-align: right;\">\n",
       "      <th></th>\n",
       "      <th>Vendedor</th>\n",
       "      <th>Total Vendas</th>\n",
       "      <th>Confere Duplicidade</th>\n",
       "    </tr>\n",
       "  </thead>\n",
       "  <tbody>\n",
       "    <tr>\n",
       "      <th>0</th>\n",
       "      <td>Amanda Martins</td>\n",
       "      <td>1485.60</td>\n",
       "      <td>False</td>\n",
       "    </tr>\n",
       "    <tr>\n",
       "      <th>1</th>\n",
       "      <td>Angela Maria</td>\n",
       "      <td>359.96</td>\n",
       "      <td>False</td>\n",
       "    </tr>\n",
       "    <tr>\n",
       "      <th>2</th>\n",
       "      <td>Carlos Moreira</td>\n",
       "      <td>489.93</td>\n",
       "      <td>False</td>\n",
       "    </tr>\n",
       "    <tr>\n",
       "      <th>3</th>\n",
       "      <td>Gabriel Cardoso</td>\n",
       "      <td>448.28</td>\n",
       "      <td>False</td>\n",
       "    </tr>\n",
       "    <tr>\n",
       "      <th>5</th>\n",
       "      <td>Leonardo Almeida</td>\n",
       "      <td>719.92</td>\n",
       "      <td>False</td>\n",
       "    </tr>\n",
       "    <tr>\n",
       "      <th>6</th>\n",
       "      <td>Nicolas Pereira</td>\n",
       "      <td>306.80</td>\n",
       "      <td>False</td>\n",
       "    </tr>\n",
       "  </tbody>\n",
       "</table>\n",
       "</div>"
      ],
      "text/plain": [
       "           Vendedor  Total Vendas  Confere Duplicidade\n",
       "0    Amanda Martins       1485.60                False\n",
       "1      Angela Maria        359.96                False\n",
       "2    Carlos Moreira        489.93                False\n",
       "3   Gabriel Cardoso        448.28                False\n",
       "5  Leonardo Almeida        719.92                False\n",
       "6   Nicolas Pereira        306.80                False"
      ]
     },
     "metadata": {},
     "output_type": "display_data"
    }
   ],
   "source": [
    "#Removendo valores duplicados \n",
    "#Método .drop_duplicates -> remove itens duplicados, dependendo do valor de keep\n",
    "removerDuplicidades = baseVendas_DF.drop_duplicates(subset=\"Vendedor\", keep=\"first\")\n",
    "display(removerDuplicidades)"
   ]
  },
  {
   "cell_type": "code",
   "execution_count": null,
   "id": "a28628e9",
   "metadata": {},
   "outputs": [],
   "source": []
  }
 ],
 "metadata": {
  "kernelspec": {
   "display_name": "Python 3 (ipykernel)",
   "language": "python",
   "name": "python3"
  },
  "language_info": {
   "codemirror_mode": {
    "name": "ipython",
    "version": 3
   },
   "file_extension": ".py",
   "mimetype": "text/x-python",
   "name": "python",
   "nbconvert_exporter": "python",
   "pygments_lexer": "ipython3",
   "version": "3.10.9"
  }
 },
 "nbformat": 4,
 "nbformat_minor": 5
}
