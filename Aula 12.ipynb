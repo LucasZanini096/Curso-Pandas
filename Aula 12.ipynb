{
 "cells": [
  {
   "cell_type": "markdown",
   "id": "9f3959d6",
   "metadata": {},
   "source": [
    "# Aula 12: Merge Inner Join"
   ]
  },
  {
   "cell_type": "code",
   "execution_count": 2,
   "id": "5639ae97",
   "metadata": {},
   "outputs": [],
   "source": [
    "import pandas as pd"
   ]
  },
  {
   "cell_type": "code",
   "execution_count": 4,
   "id": "ac366526",
   "metadata": {},
   "outputs": [],
   "source": [
    "loja1_DF = pd.read_excel(\"Vendas_+INNER_JOIN_Loja1.xlsx\")\n",
    "loja2_DF = pd.read_excel(\"Vendas_+INNER_JOIN_Loja2.xlsx\")"
   ]
  },
  {
   "cell_type": "code",
   "execution_count": 6,
   "id": "c6ad7904",
   "metadata": {},
   "outputs": [
    {
     "data": {
      "text/html": [
       "<div>\n",
       "<style scoped>\n",
       "    .dataframe tbody tr th:only-of-type {\n",
       "        vertical-align: middle;\n",
       "    }\n",
       "\n",
       "    .dataframe tbody tr th {\n",
       "        vertical-align: top;\n",
       "    }\n",
       "\n",
       "    .dataframe thead th {\n",
       "        text-align: right;\n",
       "    }\n",
       "</style>\n",
       "<table border=\"1\" class=\"dataframe\">\n",
       "  <thead>\n",
       "    <tr style=\"text-align: right;\">\n",
       "      <th></th>\n",
       "      <th>Vendedor</th>\n",
       "      <th>Produto_x</th>\n",
       "      <th>Data Venda_x</th>\n",
       "      <th>Quantidade Vendida_x</th>\n",
       "      <th>Valor Unitário_x</th>\n",
       "      <th>Total Vendas_x</th>\n",
       "      <th>Produto_y</th>\n",
       "      <th>Data Venda_y</th>\n",
       "      <th>Quantidade Vendida_y</th>\n",
       "      <th>Valor Unitário_y</th>\n",
       "      <th>Total Vendas_y</th>\n",
       "    </tr>\n",
       "  </thead>\n",
       "  <tbody>\n",
       "    <tr>\n",
       "      <th>0</th>\n",
       "      <td>Amanda Martins</td>\n",
       "      <td>Vestido Infantil</td>\n",
       "      <td>2023-01-10</td>\n",
       "      <td>1</td>\n",
       "      <td>59.90</td>\n",
       "      <td>59.90</td>\n",
       "      <td>Bermuda Masculino</td>\n",
       "      <td>2023-02-04</td>\n",
       "      <td>3</td>\n",
       "      <td>148.56</td>\n",
       "      <td>445.68</td>\n",
       "    </tr>\n",
       "    <tr>\n",
       "      <th>1</th>\n",
       "      <td>Carlos Moreira</td>\n",
       "      <td>Calça Feminina Jogger</td>\n",
       "      <td>2023-01-17</td>\n",
       "      <td>7</td>\n",
       "      <td>69.99</td>\n",
       "      <td>489.93</td>\n",
       "      <td>Calça Feminina Jogger</td>\n",
       "      <td>2023-02-17</td>\n",
       "      <td>10</td>\n",
       "      <td>69.99</td>\n",
       "      <td>699.90</td>\n",
       "    </tr>\n",
       "  </tbody>\n",
       "</table>\n",
       "</div>"
      ],
      "text/plain": [
       "         Vendedor              Produto_x Data Venda_x  Quantidade Vendida_x  \\\n",
       "0  Amanda Martins       Vestido Infantil   2023-01-10                     1   \n",
       "1  Carlos Moreira  Calça Feminina Jogger   2023-01-17                     7   \n",
       "\n",
       "   Valor Unitário_x  Total Vendas_x              Produto_y Data Venda_y  \\\n",
       "0             59.90           59.90      Bermuda Masculino   2023-02-04   \n",
       "1             69.99          489.93  Calça Feminina Jogger   2023-02-17   \n",
       "\n",
       "   Quantidade Vendida_y  Valor Unitário_y  Total Vendas_y  \n",
       "0                     3            148.56          445.68  \n",
       "1                    10             69.99          699.90  "
      ]
     },
     "metadata": {},
     "output_type": "display_data"
    }
   ],
   "source": [
    "#Vendedores que venderam em ambas as lojas \n",
    "\n",
    "#Inner = Faz o merge, entre as duas tabelas \n",
    "#on = qual coluna quero verificar \n",
    "#how = como fazer a verificação \n",
    "\n",
    "vendedores_ambas_lojas_DF = pd.merge(loja1_DF,loja2_DF, on=['Vendedor'], how='inner')\n",
    "display(vendedores_ambas_lojas_DF)"
   ]
  },
  {
   "cell_type": "code",
   "execution_count": 7,
   "id": "3ed886aa",
   "metadata": {},
   "outputs": [
    {
     "name": "stdout",
     "output_type": "stream",
     "text": [
      "['Vendedor', 'Produto_x', 'Data Venda_x', 'Quantidade Vendida_x', 'Valor Unitário_x', 'Total Vendas_x', 'Produto_y', 'Data Venda_y', 'Quantidade Vendida_y', 'Valor Unitário_y', 'Total Vendas_y']\n"
     ]
    }
   ],
   "source": [
    "#Exibindo o nome de todas as colunas \n",
    "#Tolist -> retorna uma lista \n",
    "#Values -> retorna apenas os valores de determinada coluna ou linha\n",
    "print(vendedores_ambas_lojas_DF.columns.values.tolist())"
   ]
  },
  {
   "cell_type": "code",
   "execution_count": 9,
   "id": "56f84992",
   "metadata": {},
   "outputs": [
    {
     "ename": "KeyError",
     "evalue": "\"['Total Vendas Loja 1', 'Total Vendas Loja 2'] not in index\"",
     "output_type": "error",
     "traceback": [
      "\u001b[1;31m---------------------------------------------------------------------------\u001b[0m",
      "\u001b[1;31mKeyError\u001b[0m                                  Traceback (most recent call last)",
      "Cell \u001b[1;32mIn[9], line 5\u001b[0m\n\u001b[0;32m      1\u001b[0m \u001b[38;5;66;03m#Resumo \u001b[39;00m\n\u001b[0;32m      2\u001b[0m \u001b[38;5;66;03m#É recomendado fazer este processo com um seletor de id/cpf (dados únicos)\u001b[39;00m\n\u001b[0;32m      3\u001b[0m \u001b[38;5;66;03m#Suffixes = Nomeia as colunas \u001b[39;00m\n\u001b[0;32m      4\u001b[0m vendedoresResumo \u001b[38;5;241m=\u001b[39m pd\u001b[38;5;241m.\u001b[39mmerge(loja1_DF, loja2_DF[[\u001b[38;5;124m'\u001b[39m\u001b[38;5;124mVendedor\u001b[39m\u001b[38;5;124m'\u001b[39m,\u001b[38;5;124m'\u001b[39m\u001b[38;5;124mTotal Vendas\u001b[39m\u001b[38;5;124m'\u001b[39m]], on\u001b[38;5;241m=\u001b[39m[\u001b[38;5;124m'\u001b[39m\u001b[38;5;124mVendedor\u001b[39m\u001b[38;5;124m'\u001b[39m], how\u001b[38;5;241m=\u001b[39m\u001b[38;5;124m'\u001b[39m\u001b[38;5;124minner\u001b[39m\u001b[38;5;124m'\u001b[39m, suffixes\u001b[38;5;241m=\u001b[39m(\u001b[38;5;124m'\u001b[39m\u001b[38;5;124mLoja 1\u001b[39m\u001b[38;5;124m'\u001b[39m, \u001b[38;5;124m'\u001b[39m\u001b[38;5;124mLoja 2\u001b[39m\u001b[38;5;124m'\u001b[39m))\n\u001b[1;32m----> 5\u001b[0m resumo \u001b[38;5;241m=\u001b[39m \u001b[43mvendedoresResumo\u001b[49m\u001b[43m[\u001b[49m\u001b[43m[\u001b[49m\u001b[38;5;124;43m'\u001b[39;49m\u001b[38;5;124;43mVendedor\u001b[39;49m\u001b[38;5;124;43m'\u001b[39;49m\u001b[43m,\u001b[49m\u001b[43m \u001b[49m\u001b[38;5;124;43m'\u001b[39;49m\u001b[38;5;124;43mTotal Vendas Loja 1\u001b[39;49m\u001b[38;5;124;43m'\u001b[39;49m\u001b[43m,\u001b[49m\u001b[43m \u001b[49m\u001b[38;5;124;43m'\u001b[39;49m\u001b[38;5;124;43mTotal Vendas Loja 2\u001b[39;49m\u001b[38;5;124;43m'\u001b[39;49m\u001b[43m]\u001b[49m\u001b[43m]\u001b[49m                            \n\u001b[0;32m      6\u001b[0m display(resumo)\n",
      "File \u001b[1;32m~\\anaconda3\\lib\\site-packages\\pandas\\core\\frame.py:3813\u001b[0m, in \u001b[0;36mDataFrame.__getitem__\u001b[1;34m(self, key)\u001b[0m\n\u001b[0;32m   3811\u001b[0m     \u001b[38;5;28;01mif\u001b[39;00m is_iterator(key):\n\u001b[0;32m   3812\u001b[0m         key \u001b[38;5;241m=\u001b[39m \u001b[38;5;28mlist\u001b[39m(key)\n\u001b[1;32m-> 3813\u001b[0m     indexer \u001b[38;5;241m=\u001b[39m \u001b[38;5;28;43mself\u001b[39;49m\u001b[38;5;241;43m.\u001b[39;49m\u001b[43mcolumns\u001b[49m\u001b[38;5;241;43m.\u001b[39;49m\u001b[43m_get_indexer_strict\u001b[49m\u001b[43m(\u001b[49m\u001b[43mkey\u001b[49m\u001b[43m,\u001b[49m\u001b[43m \u001b[49m\u001b[38;5;124;43m\"\u001b[39;49m\u001b[38;5;124;43mcolumns\u001b[39;49m\u001b[38;5;124;43m\"\u001b[39;49m\u001b[43m)\u001b[49m[\u001b[38;5;241m1\u001b[39m]\n\u001b[0;32m   3815\u001b[0m \u001b[38;5;66;03m# take() does not accept boolean indexers\u001b[39;00m\n\u001b[0;32m   3816\u001b[0m \u001b[38;5;28;01mif\u001b[39;00m \u001b[38;5;28mgetattr\u001b[39m(indexer, \u001b[38;5;124m\"\u001b[39m\u001b[38;5;124mdtype\u001b[39m\u001b[38;5;124m\"\u001b[39m, \u001b[38;5;28;01mNone\u001b[39;00m) \u001b[38;5;241m==\u001b[39m \u001b[38;5;28mbool\u001b[39m:\n",
      "File \u001b[1;32m~\\anaconda3\\lib\\site-packages\\pandas\\core\\indexes\\base.py:6070\u001b[0m, in \u001b[0;36mIndex._get_indexer_strict\u001b[1;34m(self, key, axis_name)\u001b[0m\n\u001b[0;32m   6067\u001b[0m \u001b[38;5;28;01melse\u001b[39;00m:\n\u001b[0;32m   6068\u001b[0m     keyarr, indexer, new_indexer \u001b[38;5;241m=\u001b[39m \u001b[38;5;28mself\u001b[39m\u001b[38;5;241m.\u001b[39m_reindex_non_unique(keyarr)\n\u001b[1;32m-> 6070\u001b[0m \u001b[38;5;28;43mself\u001b[39;49m\u001b[38;5;241;43m.\u001b[39;49m\u001b[43m_raise_if_missing\u001b[49m\u001b[43m(\u001b[49m\u001b[43mkeyarr\u001b[49m\u001b[43m,\u001b[49m\u001b[43m \u001b[49m\u001b[43mindexer\u001b[49m\u001b[43m,\u001b[49m\u001b[43m \u001b[49m\u001b[43maxis_name\u001b[49m\u001b[43m)\u001b[49m\n\u001b[0;32m   6072\u001b[0m keyarr \u001b[38;5;241m=\u001b[39m \u001b[38;5;28mself\u001b[39m\u001b[38;5;241m.\u001b[39mtake(indexer)\n\u001b[0;32m   6073\u001b[0m \u001b[38;5;28;01mif\u001b[39;00m \u001b[38;5;28misinstance\u001b[39m(key, Index):\n\u001b[0;32m   6074\u001b[0m     \u001b[38;5;66;03m# GH 42790 - Preserve name from an Index\u001b[39;00m\n",
      "File \u001b[1;32m~\\anaconda3\\lib\\site-packages\\pandas\\core\\indexes\\base.py:6133\u001b[0m, in \u001b[0;36mIndex._raise_if_missing\u001b[1;34m(self, key, indexer, axis_name)\u001b[0m\n\u001b[0;32m   6130\u001b[0m     \u001b[38;5;28;01mraise\u001b[39;00m \u001b[38;5;167;01mKeyError\u001b[39;00m(\u001b[38;5;124mf\u001b[39m\u001b[38;5;124m\"\u001b[39m\u001b[38;5;124mNone of [\u001b[39m\u001b[38;5;132;01m{\u001b[39;00mkey\u001b[38;5;132;01m}\u001b[39;00m\u001b[38;5;124m] are in the [\u001b[39m\u001b[38;5;132;01m{\u001b[39;00maxis_name\u001b[38;5;132;01m}\u001b[39;00m\u001b[38;5;124m]\u001b[39m\u001b[38;5;124m\"\u001b[39m)\n\u001b[0;32m   6132\u001b[0m not_found \u001b[38;5;241m=\u001b[39m \u001b[38;5;28mlist\u001b[39m(ensure_index(key)[missing_mask\u001b[38;5;241m.\u001b[39mnonzero()[\u001b[38;5;241m0\u001b[39m]]\u001b[38;5;241m.\u001b[39munique())\n\u001b[1;32m-> 6133\u001b[0m \u001b[38;5;28;01mraise\u001b[39;00m \u001b[38;5;167;01mKeyError\u001b[39;00m(\u001b[38;5;124mf\u001b[39m\u001b[38;5;124m\"\u001b[39m\u001b[38;5;132;01m{\u001b[39;00mnot_found\u001b[38;5;132;01m}\u001b[39;00m\u001b[38;5;124m not in index\u001b[39m\u001b[38;5;124m\"\u001b[39m)\n",
      "\u001b[1;31mKeyError\u001b[0m: \"['Total Vendas Loja 1', 'Total Vendas Loja 2'] not in index\""
     ]
    }
   ],
   "source": [
    "#Resumo \n",
    "#É recomendado fazer este processo com um seletor de id/cpf (dados únicos)\n",
    "#Suffixes = Nomeia as colunas \n",
    "vendedoresResumo = pd.merge(loja1_DF, loja2_DF[['Vendedor','Total Vendas']], on=['Vendedor'], how='inner', suffixes=('Loja 1', 'Loja 2'))\n",
    "resumo = vendedoresResumo[['Vendedor', 'Total Vendas Loja 1', 'Total Vendas Loja 2']]                            \n",
    "display(resumo)                            "
   ]
  },
  {
   "cell_type": "code",
   "execution_count": null,
   "id": "87e6aab2",
   "metadata": {},
   "outputs": [],
   "source": []
  }
 ],
 "metadata": {
  "kernelspec": {
   "display_name": "Python 3 (ipykernel)",
   "language": "python",
   "name": "python3"
  },
  "language_info": {
   "codemirror_mode": {
    "name": "ipython",
    "version": 3
   },
   "file_extension": ".py",
   "mimetype": "text/x-python",
   "name": "python",
   "nbconvert_exporter": "python",
   "pygments_lexer": "ipython3",
   "version": "3.10.9"
  }
 },
 "nbformat": 4,
 "nbformat_minor": 5
}
