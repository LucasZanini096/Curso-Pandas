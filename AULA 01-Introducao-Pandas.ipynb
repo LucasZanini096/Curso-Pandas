{
 "cells": [
  {
   "cell_type": "markdown",
   "id": "b902ff12",
   "metadata": {},
   "source": [
    "<h1> AULA 01: CURSO PANDAS </h1>"
   ]
  },
  {
   "cell_type": "code",
   "execution_count": 4,
   "id": "51948aff",
   "metadata": {},
   "outputs": [],
   "source": [
    "import pandas as pd\n",
    "import numpy "
   ]
  },
  {
   "cell_type": "markdown",
   "id": "c83f0c65",
   "metadata": {},
   "source": [
    "Vou criar um DataFrame (tabela) com datas. Para isso devo colocar dentro do método date_range a data de início e a quandidade de dias (periods).\n",
    "\n",
    "#date_range = método de criação do DataFrame\n",
    "#periods = número de datas\n",
    "#freq = dias, meses ou anos a serem repetidos, podendo ser multiplicado\n",
    "#tz = timezone"
   ]
  },
  {
   "cell_type": "code",
   "execution_count": 6,
   "id": "4ce073d7",
   "metadata": {},
   "outputs": [
    {
     "data": {
      "text/plain": [
       "DatetimeIndex(['2023-06-30', '2023-07-01', '2023-07-02', '2023-07-03',\n",
       "               '2023-07-04', '2023-07-05', '2023-07-06', '2023-07-07',\n",
       "               '2023-07-08', '2023-07-09', '2023-07-10', '2023-07-11',\n",
       "               '2023-07-12', '2023-07-13', '2023-07-14', '2023-07-15',\n",
       "               '2023-07-16', '2023-07-17', '2023-07-18', '2023-07-19'],\n",
       "              dtype='datetime64[ns]', freq='D')"
      ]
     },
     "metadata": {},
     "output_type": "display_data"
    }
   ],
   "source": [
    "dataFrame_datas = pd.date_range(\"20230630\", periods=20)\n",
    "display(dataFrame_datas)"
   ]
  },
  {
   "cell_type": "code",
   "execution_count": 7,
   "id": "964adae9",
   "metadata": {},
   "outputs": [
    {
     "data": {
      "text/plain": [
       "DatetimeIndex(['2023-07-01', '2023-07-02', '2023-07-03', '2023-07-04',\n",
       "               '2023-07-05', '2023-07-06', '2023-07-07', '2023-07-08',\n",
       "               '2023-07-09', '2023-07-10', '2023-07-11', '2023-07-12',\n",
       "               '2023-07-13', '2023-07-14', '2023-07-15', '2023-07-16',\n",
       "               '2023-07-17', '2023-07-18', '2023-07-19', '2023-07-20',\n",
       "               '2023-07-21', '2023-07-22', '2023-07-23', '2023-07-24',\n",
       "               '2023-07-25', '2023-07-26', '2023-07-27', '2023-07-28',\n",
       "               '2023-07-29', '2023-07-30', '2023-07-31'],\n",
       "              dtype='datetime64[ns]', name='MÊS DE JULHO', freq='D')"
      ]
     },
     "metadata": {},
     "output_type": "display_data"
    }
   ],
   "source": [
    "dataFrame_datas = pd.date_range(start=\"20230701\", end=\"20230731\", name=\"MÊS DE JULHO\")\n",
    "display(dataFrame_datas)"
   ]
  },
  {
   "cell_type": "code",
   "execution_count": 8,
   "id": "cdc0f37c",
   "metadata": {},
   "outputs": [
    {
     "data": {
      "text/plain": [
       "DatetimeIndex(['2018-01-01 00:00:00+01:00', '2018-01-02 00:00:00+01:00',\n",
       "               '2018-01-03 00:00:00+01:00', '2018-01-04 00:00:00+01:00',\n",
       "               '2018-01-05 00:00:00+01:00', '2018-01-06 00:00:00+01:00',\n",
       "               '2018-01-07 00:00:00+01:00', '2018-01-08 00:00:00+01:00'],\n",
       "              dtype='datetime64[ns, Europe/Berlin]', freq='D')"
      ]
     },
     "execution_count": 8,
     "metadata": {},
     "output_type": "execute_result"
    }
   ],
   "source": [
    "pd.date_range(\n",
    "    start=pd.to_datetime(\"1/1/2018\").tz_localize(\"Europe/Berlin\"),\n",
    "    end=pd.to_datetime(\"1/08/2018\").tz_localize(\"Europe/Berlin\"),\n",
    ")"
   ]
  },
  {
   "cell_type": "code",
   "execution_count": 9,
   "id": "33109ba3",
   "metadata": {},
   "outputs": [
    {
     "data": {
      "text/plain": [
       "DatetimeIndex(['2023-12-31', '2024-12-31', '2025-12-31', '2026-12-31',\n",
       "               '2027-12-31', '2028-12-31', '2029-12-31', '2030-12-31',\n",
       "               '2031-12-31', '2032-12-31', '2033-12-31', '2034-12-31'],\n",
       "              dtype='datetime64[ns]', freq='A-DEC')"
      ]
     },
     "metadata": {},
     "output_type": "display_data"
    }
   ],
   "source": [
    "dataFrame_Anos = pd.date_range(\"20230630\", periods=12, freq=\"Y\")\n",
    "display(dataFrame_Anos)"
   ]
  },
  {
   "cell_type": "markdown",
   "id": "36206319",
   "metadata": {},
   "source": [
    "<h2 sytle = \"color: blue;\"> DataFrames com Números Aletórios </h2>"
   ]
  },
  {
   "cell_type": "code",
   "execution_count": 24,
   "id": "7e059c9a",
   "metadata": {},
   "outputs": [
    {
     "data": {
      "text/html": [
       "<div>\n",
       "<style scoped>\n",
       "    .dataframe tbody tr th:only-of-type {\n",
       "        vertical-align: middle;\n",
       "    }\n",
       "\n",
       "    .dataframe tbody tr th {\n",
       "        vertical-align: top;\n",
       "    }\n",
       "\n",
       "    .dataframe thead th {\n",
       "        text-align: right;\n",
       "    }\n",
       "</style>\n",
       "<table border=\"1\" class=\"dataframe\">\n",
       "  <thead>\n",
       "    <tr style=\"text-align: right;\">\n",
       "      <th></th>\n",
       "      <th>0</th>\n",
       "    </tr>\n",
       "  </thead>\n",
       "  <tbody>\n",
       "    <tr>\n",
       "      <th>0</th>\n",
       "      <td>0.859537</td>\n",
       "    </tr>\n",
       "    <tr>\n",
       "      <th>1</th>\n",
       "      <td>0.050820</td>\n",
       "    </tr>\n",
       "    <tr>\n",
       "      <th>2</th>\n",
       "      <td>0.526265</td>\n",
       "    </tr>\n",
       "    <tr>\n",
       "      <th>3</th>\n",
       "      <td>0.480875</td>\n",
       "    </tr>\n",
       "    <tr>\n",
       "      <th>4</th>\n",
       "      <td>0.398077</td>\n",
       "    </tr>\n",
       "  </tbody>\n",
       "</table>\n",
       "</div>"
      ],
      "text/plain": [
       "          0\n",
       "0  0.859537\n",
       "1  0.050820\n",
       "2  0.526265\n",
       "3  0.480875\n",
       "4  0.398077"
      ]
     },
     "metadata": {},
     "output_type": "display_data"
    }
   ],
   "source": [
    "NumerosAleatorios = pd.DataFrame(numpy.random.rand(5,1)) #DataFrame com 5 linhas e 1 coluna\n",
    "display(NumerosAleatorios)"
   ]
  },
  {
   "cell_type": "code",
   "execution_count": 26,
   "id": "124041a7",
   "metadata": {},
   "outputs": [
    {
     "data": {
      "text/html": [
       "<div>\n",
       "<style scoped>\n",
       "    .dataframe tbody tr th:only-of-type {\n",
       "        vertical-align: middle;\n",
       "    }\n",
       "\n",
       "    .dataframe tbody tr th {\n",
       "        vertical-align: top;\n",
       "    }\n",
       "\n",
       "    .dataframe thead th {\n",
       "        text-align: right;\n",
       "    }\n",
       "</style>\n",
       "<table border=\"1\" class=\"dataframe\">\n",
       "  <thead>\n",
       "    <tr style=\"text-align: right;\">\n",
       "      <th></th>\n",
       "      <th>0</th>\n",
       "      <th>1</th>\n",
       "      <th>2</th>\n",
       "      <th>3</th>\n",
       "      <th>4</th>\n",
       "    </tr>\n",
       "  </thead>\n",
       "  <tbody>\n",
       "    <tr>\n",
       "      <th>0</th>\n",
       "      <td>87.908253</td>\n",
       "      <td>33.238332</td>\n",
       "      <td>30.648099</td>\n",
       "      <td>27.873919</td>\n",
       "      <td>54.554289</td>\n",
       "    </tr>\n",
       "    <tr>\n",
       "      <th>1</th>\n",
       "      <td>44.462063</td>\n",
       "      <td>87.283601</td>\n",
       "      <td>58.641207</td>\n",
       "      <td>21.214286</td>\n",
       "      <td>37.251722</td>\n",
       "    </tr>\n",
       "    <tr>\n",
       "      <th>2</th>\n",
       "      <td>69.121257</td>\n",
       "      <td>78.169591</td>\n",
       "      <td>40.222434</td>\n",
       "      <td>53.846833</td>\n",
       "      <td>39.798750</td>\n",
       "    </tr>\n",
       "    <tr>\n",
       "      <th>3</th>\n",
       "      <td>15.448505</td>\n",
       "      <td>67.976929</td>\n",
       "      <td>80.854334</td>\n",
       "      <td>73.645764</td>\n",
       "      <td>28.401101</td>\n",
       "    </tr>\n",
       "    <tr>\n",
       "      <th>4</th>\n",
       "      <td>95.429013</td>\n",
       "      <td>7.152116</td>\n",
       "      <td>52.165886</td>\n",
       "      <td>80.258840</td>\n",
       "      <td>9.237965</td>\n",
       "    </tr>\n",
       "    <tr>\n",
       "      <th>5</th>\n",
       "      <td>85.515779</td>\n",
       "      <td>22.596876</td>\n",
       "      <td>54.717800</td>\n",
       "      <td>83.188358</td>\n",
       "      <td>1.709418</td>\n",
       "    </tr>\n",
       "    <tr>\n",
       "      <th>6</th>\n",
       "      <td>53.759318</td>\n",
       "      <td>67.008324</td>\n",
       "      <td>34.822877</td>\n",
       "      <td>87.452144</td>\n",
       "      <td>39.050137</td>\n",
       "    </tr>\n",
       "    <tr>\n",
       "      <th>7</th>\n",
       "      <td>58.525587</td>\n",
       "      <td>29.845768</td>\n",
       "      <td>58.117231</td>\n",
       "      <td>21.711580</td>\n",
       "      <td>6.915173</td>\n",
       "    </tr>\n",
       "    <tr>\n",
       "      <th>8</th>\n",
       "      <td>29.580589</td>\n",
       "      <td>25.666302</td>\n",
       "      <td>92.988982</td>\n",
       "      <td>45.460108</td>\n",
       "      <td>54.635119</td>\n",
       "    </tr>\n",
       "    <tr>\n",
       "      <th>9</th>\n",
       "      <td>79.818669</td>\n",
       "      <td>94.614449</td>\n",
       "      <td>50.834258</td>\n",
       "      <td>15.756363</td>\n",
       "      <td>41.824576</td>\n",
       "    </tr>\n",
       "  </tbody>\n",
       "</table>\n",
       "</div>"
      ],
      "text/plain": [
       "           0          1          2          3          4\n",
       "0  87.908253  33.238332  30.648099  27.873919  54.554289\n",
       "1  44.462063  87.283601  58.641207  21.214286  37.251722\n",
       "2  69.121257  78.169591  40.222434  53.846833  39.798750\n",
       "3  15.448505  67.976929  80.854334  73.645764  28.401101\n",
       "4  95.429013   7.152116  52.165886  80.258840   9.237965\n",
       "5  85.515779  22.596876  54.717800  83.188358   1.709418\n",
       "6  53.759318  67.008324  34.822877  87.452144  39.050137\n",
       "7  58.525587  29.845768  58.117231  21.711580   6.915173\n",
       "8  29.580589  25.666302  92.988982  45.460108  54.635119\n",
       "9  79.818669  94.614449  50.834258  15.756363  41.824576"
      ]
     },
     "metadata": {},
     "output_type": "display_data"
    }
   ],
   "source": [
    "NumerosAleatorios = pd.DataFrame(numpy.random.rand(10,5)*100) #DataFrame com 10 linhas e 5 coluna\n",
    "display(NumerosAleatorios)"
   ]
  },
  {
   "cell_type": "code",
   "execution_count": null,
   "id": "a38a6c47",
   "metadata": {},
   "outputs": [],
   "source": []
  }
 ],
 "metadata": {
  "kernelspec": {
   "display_name": "Python 3 (ipykernel)",
   "language": "python",
   "name": "python3"
  },
  "language_info": {
   "codemirror_mode": {
    "name": "ipython",
    "version": 3
   },
   "file_extension": ".py",
   "mimetype": "text/x-python",
   "name": "python",
   "nbconvert_exporter": "python",
   "pygments_lexer": "ipython3",
   "version": "3.10.9"
  }
 },
 "nbformat": 4,
 "nbformat_minor": 5
}
