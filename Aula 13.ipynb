{
 "cells": [
  {
   "cell_type": "markdown",
   "id": "a9e3bc95",
   "metadata": {},
   "source": [
    "# Aula 13: Merge Join Full"
   ]
  },
  {
   "cell_type": "code",
   "execution_count": 2,
   "id": "c859ebdc",
   "metadata": {},
   "outputs": [],
   "source": [
    "import pandas as pd"
   ]
  },
  {
   "cell_type": "code",
   "execution_count": 3,
   "id": "bbce7e8f",
   "metadata": {},
   "outputs": [],
   "source": [
    "loja1_DF = pd.read_excel('Vendedores_Join_Full_Loja1.xlsx')\n",
    "loja2_DF = pd.read_excel('Vendedores_Join_Full_Loja2.xlsx')"
   ]
  },
  {
   "cell_type": "code",
   "execution_count": 4,
   "id": "45a666b8",
   "metadata": {},
   "outputs": [
    {
     "data": {
      "text/html": [
       "<div>\n",
       "<style scoped>\n",
       "    .dataframe tbody tr th:only-of-type {\n",
       "        vertical-align: middle;\n",
       "    }\n",
       "\n",
       "    .dataframe tbody tr th {\n",
       "        vertical-align: top;\n",
       "    }\n",
       "\n",
       "    .dataframe thead th {\n",
       "        text-align: right;\n",
       "    }\n",
       "</style>\n",
       "<table border=\"1\" class=\"dataframe\">\n",
       "  <thead>\n",
       "    <tr style=\"text-align: right;\">\n",
       "      <th></th>\n",
       "      <th>Id Vendedor</th>\n",
       "      <th>Vendedor</th>\n",
       "      <th>Vendas</th>\n",
       "      <th>Meta</th>\n",
       "    </tr>\n",
       "  </thead>\n",
       "  <tbody>\n",
       "    <tr>\n",
       "      <th>0</th>\n",
       "      <td>27264</td>\n",
       "      <td>Leonardo Almeida</td>\n",
       "      <td>5000.0</td>\n",
       "      <td>NaN</td>\n",
       "    </tr>\n",
       "    <tr>\n",
       "      <th>1</th>\n",
       "      <td>21732</td>\n",
       "      <td>Eliane Moreira</td>\n",
       "      <td>5000.0</td>\n",
       "      <td>NaN</td>\n",
       "    </tr>\n",
       "    <tr>\n",
       "      <th>2</th>\n",
       "      <td>27082</td>\n",
       "      <td>Nicolas Pereira</td>\n",
       "      <td>5000.0</td>\n",
       "      <td>NaN</td>\n",
       "    </tr>\n",
       "    <tr>\n",
       "      <th>3</th>\n",
       "      <td>22936</td>\n",
       "      <td>Amanda Martins</td>\n",
       "      <td>5000.0</td>\n",
       "      <td>NaN</td>\n",
       "    </tr>\n",
       "    <tr>\n",
       "      <th>4</th>\n",
       "      <td>21164</td>\n",
       "      <td>Paulo Santos</td>\n",
       "      <td>5000.0</td>\n",
       "      <td>NaN</td>\n",
       "    </tr>\n",
       "    <tr>\n",
       "      <th>5</th>\n",
       "      <td>28824</td>\n",
       "      <td>Gabriel Cardoso</td>\n",
       "      <td>5000.0</td>\n",
       "      <td>NaN</td>\n",
       "    </tr>\n",
       "    <tr>\n",
       "      <th>6</th>\n",
       "      <td>37579</td>\n",
       "      <td>Angela Maria</td>\n",
       "      <td>5000.0</td>\n",
       "      <td>NaN</td>\n",
       "    </tr>\n",
       "    <tr>\n",
       "      <th>7</th>\n",
       "      <td>20437</td>\n",
       "      <td>Carlos Moreira</td>\n",
       "      <td>5000.0</td>\n",
       "      <td>NaN</td>\n",
       "    </tr>\n",
       "    <tr>\n",
       "      <th>0</th>\n",
       "      <td>27265</td>\n",
       "      <td>Marcos Oliveira</td>\n",
       "      <td>NaN</td>\n",
       "      <td>5000.0</td>\n",
       "    </tr>\n",
       "    <tr>\n",
       "      <th>1</th>\n",
       "      <td>21732</td>\n",
       "      <td>Eliane Moreira</td>\n",
       "      <td>NaN</td>\n",
       "      <td>5000.0</td>\n",
       "    </tr>\n",
       "    <tr>\n",
       "      <th>2</th>\n",
       "      <td>27082</td>\n",
       "      <td>Nicolas Pereira</td>\n",
       "      <td>NaN</td>\n",
       "      <td>5000.0</td>\n",
       "    </tr>\n",
       "    <tr>\n",
       "      <th>3</th>\n",
       "      <td>22911</td>\n",
       "      <td>Pedro Camargo</td>\n",
       "      <td>NaN</td>\n",
       "      <td>5000.0</td>\n",
       "    </tr>\n",
       "  </tbody>\n",
       "</table>\n",
       "</div>"
      ],
      "text/plain": [
       "   Id Vendedor          Vendedor  Vendas    Meta\n",
       "0        27264  Leonardo Almeida  5000.0     NaN\n",
       "1        21732    Eliane Moreira  5000.0     NaN\n",
       "2        27082   Nicolas Pereira  5000.0     NaN\n",
       "3        22936    Amanda Martins  5000.0     NaN\n",
       "4        21164      Paulo Santos  5000.0     NaN\n",
       "5        28824   Gabriel Cardoso  5000.0     NaN\n",
       "6        37579      Angela Maria  5000.0     NaN\n",
       "7        20437    Carlos Moreira  5000.0     NaN\n",
       "0        27265   Marcos Oliveira     NaN  5000.0\n",
       "1        21732    Eliane Moreira     NaN  5000.0\n",
       "2        27082   Nicolas Pereira     NaN  5000.0\n",
       "3        22911     Pedro Camargo     NaN  5000.0"
      ]
     },
     "metadata": {},
     "output_type": "display_data"
    }
   ],
   "source": [
    "#concat = uni os arquivos\n",
    "#Join Full - Uniu todos os arquivos\n",
    "vendas_Loja1_Loja2 = pd.concat([loja1_DF, loja2_DF])\n",
    "display(vendas_Loja1_Loja2)"
   ]
  },
  {
   "cell_type": "code",
   "execution_count": null,
   "id": "018028c2",
   "metadata": {},
   "outputs": [],
   "source": [
    "#Remoção de itens duplicados\n",
    "#Subset -> identifico qual coluna eu quero fazer a remoção das duplicatas\n",
    "SemvendedoresDuplicados = vendas_Loja1_Loja2.drop_duplicates(subset=\"Id Vendedor\")\n",
    "print(ClientesDuplicados)"
   ]
  },
  {
   "cell_type": "code",
   "execution_count": null,
   "id": "39f793d5",
   "metadata": {},
   "outputs": [],
   "source": []
  }
 ],
 "metadata": {
  "kernelspec": {
   "display_name": "Python 3 (ipykernel)",
   "language": "python",
   "name": "python3"
  },
  "language_info": {
   "codemirror_mode": {
    "name": "ipython",
    "version": 3
   },
   "file_extension": ".py",
   "mimetype": "text/x-python",
   "name": "python",
   "nbconvert_exporter": "python",
   "pygments_lexer": "ipython3",
   "version": "3.10.9"
  }
 },
 "nbformat": 4,
 "nbformat_minor": 5
}
