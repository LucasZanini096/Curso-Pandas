{
 "cells": [
  {
   "cell_type": "markdown",
   "id": "8cc0b583",
   "metadata": {},
   "source": [
    "# AULA 14: MERGE LEFT JOIN"
   ]
  },
  {
   "cell_type": "code",
   "execution_count": 1,
   "id": "85873386",
   "metadata": {},
   "outputs": [],
   "source": [
    "import pandas as pd"
   ]
  },
  {
   "cell_type": "code",
   "execution_count": 4,
   "id": "7edc06b0",
   "metadata": {},
   "outputs": [],
   "source": [
    "vendas_DF = pd.read_excel(\"Vendas_LEFT_JOIN.xlsx\")\n",
    "vendedores_DF = pd.read_excel(\"Vendedores_LEFT_JOIN.xlsx\") "
   ]
  },
  {
   "cell_type": "code",
   "execution_count": 5,
   "id": "23a2ca29",
   "metadata": {},
   "outputs": [
    {
     "name": "stdout",
     "output_type": "stream",
     "text": [
      "   Id Vendedor        Vendedor_x  Vendas      Vendedor_y\n",
      "0        27264  Leonardo Almeida    4144             NaN\n",
      "1        21732    Eliane Moreira    7985             NaN\n",
      "2        27082   Nicolas Pereira    7892             NaN\n",
      "3        22936    Amanda Martins    5469  Amanda Martins\n",
      "4        21164      Paulo Santos    6572             NaN\n",
      "5        28824   Gabriel Cardoso    6140             NaN\n",
      "6        37579      Angela Maria    5003    Angela Maria\n",
      "7        20437    Carlos Moreira    6799  Carlos Moreira\n"
     ]
    }
   ],
   "source": [
    "#how= como\n",
    "#left = Trazer os dados pela esquerda \n",
    "verificandoVendas_DF = pd.merge(vendas_DF, vendedores_DF, on='Id Vendedor', \n",
    "                                how=\"left\")\n",
    "print(verificandoVendas_DF)"
   ]
  },
  {
   "cell_type": "code",
   "execution_count": 6,
   "id": "b57cacfb",
   "metadata": {},
   "outputs": [
    {
     "name": "stdout",
     "output_type": "stream",
     "text": [
      "   Id Vendedor    VendedorVendas  Vendas VendedorChecagem\n",
      "0        27264  Leonardo Almeida    4144              NaN\n",
      "1        21732    Eliane Moreira    7985              NaN\n",
      "2        27082   Nicolas Pereira    7892              NaN\n",
      "3        22936    Amanda Martins    5469   Amanda Martins\n",
      "4        21164      Paulo Santos    6572              NaN\n",
      "5        28824   Gabriel Cardoso    6140              NaN\n",
      "6        37579      Angela Maria    5003     Angela Maria\n",
      "7        20437    Carlos Moreira    6799   Carlos Moreira\n"
     ]
    }
   ],
   "source": [
    "verificandoVendas_DF_2 = pd.merge(vendas_DF, vendedores_DF, on='Id Vendedor', \n",
    "                                how=\"left\", suffixes=('Vendas',\"Checagem\"))\n",
    "print(verificandoVendas_DF_2)"
   ]
  },
  {
   "cell_type": "code",
   "execution_count": 7,
   "id": "d75bb07f",
   "metadata": {},
   "outputs": [
    {
     "data": {
      "text/html": [
       "<div>\n",
       "<style scoped>\n",
       "    .dataframe tbody tr th:only-of-type {\n",
       "        vertical-align: middle;\n",
       "    }\n",
       "\n",
       "    .dataframe tbody tr th {\n",
       "        vertical-align: top;\n",
       "    }\n",
       "\n",
       "    .dataframe thead th {\n",
       "        text-align: right;\n",
       "    }\n",
       "</style>\n",
       "<table border=\"1\" class=\"dataframe\">\n",
       "  <thead>\n",
       "    <tr style=\"text-align: right;\">\n",
       "      <th></th>\n",
       "      <th>Id Vendedor</th>\n",
       "      <th>VendedorVendas</th>\n",
       "      <th>Vendas</th>\n",
       "      <th>VendedorChecagem</th>\n",
       "    </tr>\n",
       "  </thead>\n",
       "  <tbody>\n",
       "    <tr>\n",
       "      <th>3</th>\n",
       "      <td>22936</td>\n",
       "      <td>Amanda Martins</td>\n",
       "      <td>5469</td>\n",
       "      <td>Amanda Martins</td>\n",
       "    </tr>\n",
       "    <tr>\n",
       "      <th>6</th>\n",
       "      <td>37579</td>\n",
       "      <td>Angela Maria</td>\n",
       "      <td>5003</td>\n",
       "      <td>Angela Maria</td>\n",
       "    </tr>\n",
       "    <tr>\n",
       "      <th>7</th>\n",
       "      <td>20437</td>\n",
       "      <td>Carlos Moreira</td>\n",
       "      <td>6799</td>\n",
       "      <td>Carlos Moreira</td>\n",
       "    </tr>\n",
       "  </tbody>\n",
       "</table>\n",
       "</div>"
      ],
      "text/plain": [
       "   Id Vendedor  VendedorVendas  Vendas VendedorChecagem\n",
       "3        22936  Amanda Martins    5469   Amanda Martins\n",
       "6        37579    Angela Maria    5003     Angela Maria\n",
       "7        20437  Carlos Moreira    6799   Carlos Moreira"
      ]
     },
     "metadata": {},
     "output_type": "display_data"
    }
   ],
   "source": [
    "tratamentoDados_DF = pd.merge(vendas_DF, vendedores_DF, on='Id Vendedor', \n",
    "                                how=\"left\", suffixes=('Vendas',\"Checagem\"))\n",
    "tratamentoDados_DF = tratamentoDados_DF.dropna()\n",
    "display(tratamentoDados_DF)"
   ]
  },
  {
   "cell_type": "code",
   "execution_count": 9,
   "id": "3ef1ff46",
   "metadata": {},
   "outputs": [
    {
     "data": {
      "text/html": [
       "<div>\n",
       "<style scoped>\n",
       "    .dataframe tbody tr th:only-of-type {\n",
       "        vertical-align: middle;\n",
       "    }\n",
       "\n",
       "    .dataframe tbody tr th {\n",
       "        vertical-align: top;\n",
       "    }\n",
       "\n",
       "    .dataframe thead th {\n",
       "        text-align: right;\n",
       "    }\n",
       "</style>\n",
       "<table border=\"1\" class=\"dataframe\">\n",
       "  <thead>\n",
       "    <tr style=\"text-align: right;\">\n",
       "      <th></th>\n",
       "      <th>Id Vendedor</th>\n",
       "      <th>VendedorVendas</th>\n",
       "      <th>Vendas</th>\n",
       "    </tr>\n",
       "  </thead>\n",
       "  <tbody>\n",
       "    <tr>\n",
       "      <th>3</th>\n",
       "      <td>22936</td>\n",
       "      <td>Amanda Martins</td>\n",
       "      <td>5469</td>\n",
       "    </tr>\n",
       "    <tr>\n",
       "      <th>6</th>\n",
       "      <td>37579</td>\n",
       "      <td>Angela Maria</td>\n",
       "      <td>5003</td>\n",
       "    </tr>\n",
       "    <tr>\n",
       "      <th>7</th>\n",
       "      <td>20437</td>\n",
       "      <td>Carlos Moreira</td>\n",
       "      <td>6799</td>\n",
       "    </tr>\n",
       "  </tbody>\n",
       "</table>\n",
       "</div>"
      ],
      "text/plain": [
       "   Id Vendedor  VendedorVendas  Vendas\n",
       "3        22936  Amanda Martins    5469\n",
       "6        37579    Angela Maria    5003\n",
       "7        20437  Carlos Moreira    6799"
      ]
     },
     "metadata": {},
     "output_type": "display_data"
    }
   ],
   "source": [
    "del tratamentoDados_DF['VendedorChecagem']\n",
    "display(tratamentoDados_DF)"
   ]
  },
  {
   "cell_type": "code",
   "execution_count": null,
   "id": "64c5eb4f",
   "metadata": {},
   "outputs": [],
   "source": []
  }
 ],
 "metadata": {
  "kernelspec": {
   "display_name": "Python 3 (ipykernel)",
   "language": "python",
   "name": "python3"
  },
  "language_info": {
   "codemirror_mode": {
    "name": "ipython",
    "version": 3
   },
   "file_extension": ".py",
   "mimetype": "text/x-python",
   "name": "python",
   "nbconvert_exporter": "python",
   "pygments_lexer": "ipython3",
   "version": "3.10.9"
  }
 },
 "nbformat": 4,
 "nbformat_minor": 5
}
